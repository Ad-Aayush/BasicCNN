{
 "cells": [
  {
   "cell_type": "code",
   "execution_count": 5,
   "metadata": {},
   "outputs": [
    {
     "data": {
      "text/plain": [
       "label    1\n",
       "Name: 1.png, dtype: int64"
      ]
     },
     "metadata": {},
     "output_type": "display_data"
    }
   ],
   "source": [
    "import numpy as np\n",
    "import pandas as pd\n",
    "import torch\n",
    "import torch.nn as nn\n",
    "from torchvision import datasets, transforms\n",
    "import os\n",
    "\n",
    "df = pd.read_csv('../label.csv', index_col=0)\n",
    "display(df.loc[\"1.png\",:])"
   ]
  },
  {
   "cell_type": "code",
   "execution_count": 3,
   "metadata": {},
   "outputs": [
    {
     "name": "stdout",
     "output_type": "stream",
     "text": [
      "/home/aayush_ad/TL_Task/Images\n"
     ]
    }
   ],
   "source": [
    "%cd Images"
   ]
  },
  {
   "cell_type": "code",
   "execution_count": 54,
   "metadata": {},
   "outputs": [],
   "source": [
    "\n",
    "cnt = 0\n",
    "for file in os.listdir('.'):\n",
    "    if file[-4:] == \".png\":\n",
    "        if cnt % 5 == 0:\n",
    "            os.replace(file,\"Test/\" + str(df.loc[file]['label'])+'/'+str(file))\n",
    "        else:\n",
    "            os.replace(file,\"Train/\" + str(df.loc[file]['label'])+'/'+str(file))\n",
    "        cnt += 1"
   ]
  }
 ],
 "metadata": {
  "kernelspec": {
   "display_name": "Python 3",
   "language": "python",
   "name": "python3"
  },
  "language_info": {
   "codemirror_mode": {
    "name": "ipython",
    "version": 3
   },
   "file_extension": ".py",
   "mimetype": "text/x-python",
   "name": "python",
   "nbconvert_exporter": "python",
   "pygments_lexer": "ipython3",
   "version": "3.11.2"
  },
  "orig_nbformat": 4
 },
 "nbformat": 4,
 "nbformat_minor": 2
}
