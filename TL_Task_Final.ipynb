{
  "cells": [
    {
      "cell_type": "code",
      "source": [
        "!wget https://www.dropbox.com/s/5pdslefas0iabqd/TL_Task.zip"
      ],
      "metadata": {
        "colab": {
          "base_uri": "https://localhost:8080/"
        },
        "id": "wBp2XBmc230V",
        "outputId": "8530a9de-1a59-4a29-e7b9-d70321f9ecc2"
      },
      "execution_count": 1,
      "outputs": [
        {
          "output_type": "stream",
          "name": "stdout",
          "text": [
            "--2023-06-09 21:31:24--  https://www.dropbox.com/s/5pdslefas0iabqd/TL_Task.zip\n",
            "Resolving www.dropbox.com (www.dropbox.com)... 162.125.3.18, 2620:100:601b:18::a27d:812\n",
            "Connecting to www.dropbox.com (www.dropbox.com)|162.125.3.18|:443... connected.\n",
            "HTTP request sent, awaiting response... 302 Found\n",
            "Location: /s/raw/5pdslefas0iabqd/TL_Task.zip [following]\n",
            "--2023-06-09 21:31:24--  https://www.dropbox.com/s/raw/5pdslefas0iabqd/TL_Task.zip\n",
            "Reusing existing connection to www.dropbox.com:443.\n",
            "HTTP request sent, awaiting response... 302 Found\n",
            "Location: https://uc3d1e3d9d2031b151d91b23ae0b.dl.dropboxusercontent.com/cd/0/inline/B9prw2SMZDSFPj4GzJjF-p11fx0q0OnMlYSfDSph3iJZJsBmg5CnkP3bfT6bdLGo_1uSckWysTe3gT2TEGBwdpSZ1IpS2VtRgwnxsbUO14QTXuLkY3EqMIEVAdbNouSBsP7JNBHQtfcmlOD9HqMVDdlHepFYY9ZuAbKcPHTCdC094Q/file# [following]\n",
            "--2023-06-09 21:31:25--  https://uc3d1e3d9d2031b151d91b23ae0b.dl.dropboxusercontent.com/cd/0/inline/B9prw2SMZDSFPj4GzJjF-p11fx0q0OnMlYSfDSph3iJZJsBmg5CnkP3bfT6bdLGo_1uSckWysTe3gT2TEGBwdpSZ1IpS2VtRgwnxsbUO14QTXuLkY3EqMIEVAdbNouSBsP7JNBHQtfcmlOD9HqMVDdlHepFYY9ZuAbKcPHTCdC094Q/file\n",
            "Resolving uc3d1e3d9d2031b151d91b23ae0b.dl.dropboxusercontent.com (uc3d1e3d9d2031b151d91b23ae0b.dl.dropboxusercontent.com)... 162.125.3.15, 2620:100:6018:15::a27d:30f\n",
            "Connecting to uc3d1e3d9d2031b151d91b23ae0b.dl.dropboxusercontent.com (uc3d1e3d9d2031b151d91b23ae0b.dl.dropboxusercontent.com)|162.125.3.15|:443... connected.\n",
            "HTTP request sent, awaiting response... 302 Found\n",
            "Location: /cd/0/inline2/B9qEiDbBlznb4u4t6zYmx9xEy2gbPD5DOjAZrFszgV1qPgazHkAcUyPknNBMKCuBfZMFBdEjzHoe4Lk9LMBjOf2t36xMe6Vp6YCgyR3MJSpTIQIh4JE-1IPsjLehicw01wTMufFVYIGekaJWyukeS66WSLfbzA1jzPGUNBxYjqT_15DxwrhpyXOFqoaBgFHb4IaD4s8l6u1nPAGWMj9Ue6qNuDyjQm_qtNXP9bZUTwd_rbIhdbG6hiCNKCReijQhHWUFOIh7tLbpdtOoCe6lXlToB7X488nMgqgSBkN_UH1WEQKmR8UQfjuP9QlgFlrXwG2Fl_bxeScpk06kXVEIvq2cCXt_4PvaoUN8VnfgvRV_0Xa0MrAeCyzWJJo979Re7hUhvirPUE8G2cSSJgIHIxiA5a-tLShpxBusoUpRc__VeA/file [following]\n",
            "--2023-06-09 21:31:25--  https://uc3d1e3d9d2031b151d91b23ae0b.dl.dropboxusercontent.com/cd/0/inline2/B9qEiDbBlznb4u4t6zYmx9xEy2gbPD5DOjAZrFszgV1qPgazHkAcUyPknNBMKCuBfZMFBdEjzHoe4Lk9LMBjOf2t36xMe6Vp6YCgyR3MJSpTIQIh4JE-1IPsjLehicw01wTMufFVYIGekaJWyukeS66WSLfbzA1jzPGUNBxYjqT_15DxwrhpyXOFqoaBgFHb4IaD4s8l6u1nPAGWMj9Ue6qNuDyjQm_qtNXP9bZUTwd_rbIhdbG6hiCNKCReijQhHWUFOIh7tLbpdtOoCe6lXlToB7X488nMgqgSBkN_UH1WEQKmR8UQfjuP9QlgFlrXwG2Fl_bxeScpk06kXVEIvq2cCXt_4PvaoUN8VnfgvRV_0Xa0MrAeCyzWJJo979Re7hUhvirPUE8G2cSSJgIHIxiA5a-tLShpxBusoUpRc__VeA/file\n",
            "Reusing existing connection to uc3d1e3d9d2031b151d91b23ae0b.dl.dropboxusercontent.com:443.\n",
            "HTTP request sent, awaiting response... 200 OK\n",
            "Length: 284809124 (272M) [application/zip]\n",
            "Saving to: ‘TL_Task.zip.1’\n",
            "\n",
            "TL_Task.zip.1       100%[===================>] 271.61M   110MB/s    in 2.5s    \n",
            "\n",
            "2023-06-09 21:31:28 (110 MB/s) - ‘TL_Task.zip.1’ saved [284809124/284809124]\n",
            "\n"
          ]
        }
      ]
    },
    {
      "cell_type": "code",
      "source": [
        "!unzip TL_Task"
      ],
      "metadata": {
        "colab": {
          "base_uri": "https://localhost:8080/"
        },
        "id": "oaJa-ELm6z4x",
        "outputId": "a1ac2159-9615-47ff-e5a2-7ed3852c2093"
      },
      "execution_count": 2,
      "outputs": [
        {
          "output_type": "stream",
          "name": "stdout",
          "text": [
            "Archive:  TL_Task.zip\n",
            "replace TL_Task/Images/Train/1/10007.png? [y]es, [n]o, [A]ll, [N]one, [r]ename: N\n"
          ]
        }
      ]
    },
    {
      "cell_type": "code",
      "source": [
        "%cd TL_Task"
      ],
      "metadata": {
        "colab": {
          "base_uri": "https://localhost:8080/"
        },
        "id": "j2E3jPz1mF8y",
        "outputId": "2114b695-c61b-47dc-a3a6-b87979c75b55"
      },
      "execution_count": 3,
      "outputs": [
        {
          "output_type": "stream",
          "name": "stdout",
          "text": [
            "/content/TL_Task\n"
          ]
        }
      ]
    },
    {
      "cell_type": "code",
      "source": [
        "import numpy as np\n",
        "import tensorflow as tf\n",
        "from tensorflow import keras\n",
        "from keras.models import Sequential\n",
        "from keras.layers import Conv2D, MaxPool2D, Dense, Flatten, Dropout"
      ],
      "metadata": {
        "id": "2fyX0KswmJxH"
      },
      "execution_count": 4,
      "outputs": []
    },
    {
      "cell_type": "code",
      "source": [
        "train_data = keras.utils.image_dataset_from_directory('Images/Train',batch_size=32,color_mode='grayscale',image_size=(70,70))\n",
        "train_data = train_data.map(lambda x, y: (x/255,y))\n",
        "\n",
        "test_data = keras.utils.image_dataset_from_directory('Images/Test',batch_size=200,color_mode='grayscale',image_size=(70,70))\n",
        "test_data = test_data.map(lambda x, y: (x/255,y))\n",
        "\n",
        "train_size = int(0.8*len(train_data))\n",
        "test_size = int(len(test_data))\n",
        "val_size = int(0.2*len(train_data))\n",
        "\n",
        "train_data = train_data.take(train_size)\n",
        "val_data = train_data.take(val_size)\n",
        "test_data = test_data.take(test_size)"
      ],
      "metadata": {
        "id": "cuhjQvrp8iLQ",
        "colab": {
          "base_uri": "https://localhost:8080/"
        },
        "outputId": "a3ac7eb9-aadf-40c5-8a31-a65017469eb3"
      },
      "execution_count": 5,
      "outputs": [
        {
          "output_type": "stream",
          "name": "stdout",
          "text": [
            "Found 50756 files belonging to 6 classes.\n",
            "Found 12689 files belonging to 6 classes.\n"
          ]
        }
      ]
    },
    {
      "cell_type": "code",
      "source": [
        "model = Sequential()\n",
        "model.add(Conv2D(96, (3,3), activation = 'relu', input_shape=(70,70,1)))\n",
        "model.add(MaxPool2D((2,2)))\n",
        "\n",
        "model.add(Conv2D(64, (3,3), activation = 'relu'))\n",
        "model.add(MaxPool2D((2,2)))\n",
        "\n",
        "model.add(Conv2D(96, (3,3), activation = 'relu'))\n",
        "model.add(MaxPool2D((2,2)))\n",
        "\n",
        "model.add(Flatten())\n",
        "model.add(Dense(300,activation='relu'))\n",
        "model.add(Dropout(0.5))\n",
        "model.add(Dense(6, activation=tf.keras.activations.softmax))"
      ],
      "metadata": {
        "id": "IqrRDHpk8iHB"
      },
      "execution_count": 6,
      "outputs": []
    },
    {
      "cell_type": "code",
      "source": [
        "model.compile('adam',loss=tf.losses.SparseCategoricalCrossentropy(),metrics=['accuracy'])\n",
        "model.summary()"
      ],
      "metadata": {
        "id": "usy0GJiU8h9n",
        "colab": {
          "base_uri": "https://localhost:8080/"
        },
        "outputId": "ff6a9396-d406-495e-9afd-a8899e32588d"
      },
      "execution_count": 7,
      "outputs": [
        {
          "output_type": "stream",
          "name": "stdout",
          "text": [
            "Model: \"sequential\"\n",
            "_________________________________________________________________\n",
            " Layer (type)                Output Shape              Param #   \n",
            "=================================================================\n",
            " conv2d (Conv2D)             (None, 68, 68, 96)        960       \n",
            "                                                                 \n",
            " max_pooling2d (MaxPooling2D  (None, 34, 34, 96)       0         \n",
            " )                                                               \n",
            "                                                                 \n",
            " conv2d_1 (Conv2D)           (None, 32, 32, 64)        55360     \n",
            "                                                                 \n",
            " max_pooling2d_1 (MaxPooling  (None, 16, 16, 64)       0         \n",
            " 2D)                                                             \n",
            "                                                                 \n",
            " conv2d_2 (Conv2D)           (None, 14, 14, 96)        55392     \n",
            "                                                                 \n",
            " max_pooling2d_2 (MaxPooling  (None, 7, 7, 96)         0         \n",
            " 2D)                                                             \n",
            "                                                                 \n",
            " flatten (Flatten)           (None, 4704)              0         \n",
            "                                                                 \n",
            " dense (Dense)               (None, 300)               1411500   \n",
            "                                                                 \n",
            " dropout (Dropout)           (None, 300)               0         \n",
            "                                                                 \n",
            " dense_1 (Dense)             (None, 6)                 1806      \n",
            "                                                                 \n",
            "=================================================================\n",
            "Total params: 1,525,018\n",
            "Trainable params: 1,525,018\n",
            "Non-trainable params: 0\n",
            "_________________________________________________________________\n"
          ]
        }
      ]
    },
    {
      "cell_type": "code",
      "execution_count": 8,
      "metadata": {
        "colab": {
          "base_uri": "https://localhost:8080/"
        },
        "id": "kXX5HL8DBNFy",
        "outputId": "a65cd9b7-9a55-4827-87f6-21dab6e65148"
      },
      "outputs": [
        {
          "output_type": "stream",
          "name": "stdout",
          "text": [
            "Epoch 1/30\n",
            "1269/1269 [==============================] - 27s 18ms/step - loss: 0.7910 - accuracy: 0.6963 - val_loss: 0.4829 - val_accuracy: 0.8231\n",
            "Epoch 2/30\n",
            "1269/1269 [==============================] - 20s 16ms/step - loss: 0.5011 - accuracy: 0.8169 - val_loss: 0.3764 - val_accuracy: 0.8620\n",
            "Epoch 3/30\n",
            "1269/1269 [==============================] - 17s 14ms/step - loss: 0.4226 - accuracy: 0.8464 - val_loss: 0.3334 - val_accuracy: 0.8813\n",
            "Epoch 4/30\n",
            "1269/1269 [==============================] - 17s 14ms/step - loss: 0.3654 - accuracy: 0.8651 - val_loss: 0.2963 - val_accuracy: 0.8880\n",
            "Epoch 5/30\n",
            "1269/1269 [==============================] - 18s 14ms/step - loss: 0.3259 - accuracy: 0.8789 - val_loss: 0.2502 - val_accuracy: 0.9097\n",
            "Epoch 6/30\n",
            "1269/1269 [==============================] - 18s 14ms/step - loss: 0.2943 - accuracy: 0.8932 - val_loss: 0.2184 - val_accuracy: 0.9173\n",
            "Epoch 7/30\n",
            "1269/1269 [==============================] - 20s 16ms/step - loss: 0.2692 - accuracy: 0.9000 - val_loss: 0.2289 - val_accuracy: 0.9100\n",
            "Epoch 8/30\n",
            "1269/1269 [==============================] - 18s 14ms/step - loss: 0.2465 - accuracy: 0.9079 - val_loss: 0.1947 - val_accuracy: 0.9309\n",
            "Epoch 9/30\n",
            "1269/1269 [==============================] - 17s 14ms/step - loss: 0.2236 - accuracy: 0.9165 - val_loss: 0.1808 - val_accuracy: 0.9314\n",
            "Epoch 10/30\n",
            "1269/1269 [==============================] - 18s 14ms/step - loss: 0.2097 - accuracy: 0.9212 - val_loss: 0.1502 - val_accuracy: 0.9457\n",
            "Epoch 11/30\n",
            "1269/1269 [==============================] - 21s 16ms/step - loss: 0.1938 - accuracy: 0.9278 - val_loss: 0.1384 - val_accuracy: 0.9464\n",
            "Epoch 12/30\n",
            "1269/1269 [==============================] - 17s 14ms/step - loss: 0.1800 - accuracy: 0.9322 - val_loss: 0.1224 - val_accuracy: 0.9579\n",
            "Epoch 13/30\n",
            "1269/1269 [==============================] - 18s 14ms/step - loss: 0.1708 - accuracy: 0.9357 - val_loss: 0.1005 - val_accuracy: 0.9620\n",
            "Epoch 14/30\n",
            "1269/1269 [==============================] - 18s 14ms/step - loss: 0.1581 - accuracy: 0.9402 - val_loss: 0.1083 - val_accuracy: 0.9593\n",
            "Epoch 15/30\n",
            "1269/1269 [==============================] - 19s 15ms/step - loss: 0.1511 - accuracy: 0.9436 - val_loss: 0.0998 - val_accuracy: 0.9658\n",
            "Epoch 16/30\n",
            "1269/1269 [==============================] - 18s 14ms/step - loss: 0.1393 - accuracy: 0.9490 - val_loss: 0.0874 - val_accuracy: 0.9682\n",
            "Epoch 17/30\n",
            "1269/1269 [==============================] - 18s 14ms/step - loss: 0.1360 - accuracy: 0.9484 - val_loss: 0.0828 - val_accuracy: 0.9707\n",
            "Epoch 18/30\n",
            "1269/1269 [==============================] - 18s 14ms/step - loss: 0.1275 - accuracy: 0.9528 - val_loss: 0.0669 - val_accuracy: 0.9763\n",
            "Epoch 19/30\n",
            "1269/1269 [==============================] - 18s 14ms/step - loss: 0.1212 - accuracy: 0.9552 - val_loss: 0.0615 - val_accuracy: 0.9776\n",
            "Epoch 20/30\n",
            "1269/1269 [==============================] - 18s 14ms/step - loss: 0.1190 - accuracy: 0.9560 - val_loss: 0.0707 - val_accuracy: 0.9765\n",
            "Epoch 21/30\n",
            "1269/1269 [==============================] - 17s 14ms/step - loss: 0.1071 - accuracy: 0.9597 - val_loss: 0.0552 - val_accuracy: 0.9819\n",
            "Epoch 22/30\n",
            "1269/1269 [==============================] - 17s 13ms/step - loss: 0.1083 - accuracy: 0.9593 - val_loss: 0.0546 - val_accuracy: 0.9805\n",
            "Epoch 23/30\n",
            "1269/1269 [==============================] - 18s 14ms/step - loss: 0.0994 - accuracy: 0.9630 - val_loss: 0.0415 - val_accuracy: 0.9855\n",
            "Epoch 24/30\n",
            "1269/1269 [==============================] - 17s 13ms/step - loss: 0.1036 - accuracy: 0.9633 - val_loss: 0.0476 - val_accuracy: 0.9843\n",
            "Epoch 25/30\n",
            "1269/1269 [==============================] - 20s 16ms/step - loss: 0.0992 - accuracy: 0.9645 - val_loss: 0.0411 - val_accuracy: 0.9884\n",
            "Epoch 26/30\n",
            "1269/1269 [==============================] - 18s 14ms/step - loss: 0.0952 - accuracy: 0.9655 - val_loss: 0.0413 - val_accuracy: 0.9852\n",
            "Epoch 27/30\n",
            "1269/1269 [==============================] - 17s 14ms/step - loss: 0.0904 - accuracy: 0.9668 - val_loss: 0.0297 - val_accuracy: 0.9908\n",
            "Epoch 28/30\n",
            "1269/1269 [==============================] - 18s 14ms/step - loss: 0.0849 - accuracy: 0.9692 - val_loss: 0.0428 - val_accuracy: 0.9848\n",
            "Epoch 29/30\n",
            "1269/1269 [==============================] - 18s 14ms/step - loss: 0.0835 - accuracy: 0.9693 - val_loss: 0.0458 - val_accuracy: 0.9862\n",
            "Epoch 30/30\n",
            "1269/1269 [==============================] - 17s 13ms/step - loss: 0.0819 - accuracy: 0.9708 - val_loss: 0.0332 - val_accuracy: 0.9888\n"
          ]
        }
      ],
      "source": [
        "log = 'logs'\n",
        "call = tf.keras.callbacks.TensorBoard(log_dir=log)\n",
        "\n",
        "from keras.callbacks import Callback\n",
        "from sklearn.metrics import confusion_matrix, f1_score, precision_score, recall_score\n",
        "model_checkpoint_callback = tf.keras.callbacks.ModelCheckpoint(\n",
        "    filepath='.',\n",
        "    save_weights_only=True,\n",
        "    monitor='val_accuracy',\n",
        "    mode='max',\n",
        "    save_best_only=True)\n",
        "\n",
        "graph_data = model.fit(train_data,epochs=30,validation_data=val_data, callbacks=[model_checkpoint_callback])"
      ]
    },
    {
      "cell_type": "code",
      "execution_count": 9,
      "metadata": {
        "id": "ZgqLQgO6zMsB",
        "colab": {
          "base_uri": "https://localhost:8080/",
          "height": 887
        },
        "outputId": "2280a298-1b3f-47dc-92bb-183acfe486d8"
      },
      "outputs": [
        {
          "output_type": "display_data",
          "data": {
            "text/plain": [
              "<Figure size 640x480 with 1 Axes>"
            ],
            "image/png": "[encoded data removed]"
          },
          "metadata": {}
        },
        {
          "output_type": "display_data",
          "data": {
            "text/plain": [
              "<Figure size 640x480 with 1 Axes>"
            ],
            "image/png": "[encoded data removed]"
          },
          "metadata": {}
        }
      ],
      "source": [
        "import matplotlib.pyplot as plt\n",
        "\n",
        "\n",
        "acc = graph_data.history['accuracy']\n",
        "val_acc = graph_data.history['val_accuracy']\n",
        "loss = graph_data.history['loss']\n",
        "val_loss = graph_data.history['val_loss']\n",
        "\n",
        "epochs = range(1, len(acc) + 1)\n",
        "\n",
        "plt.plot(epochs, acc, 'b', label='Training acc')\n",
        "plt.plot(epochs, val_acc, 'r', label='Validation acc')\n",
        "plt.title('Training and validation accuracy')\n",
        "plt.legend()\n",
        "\n",
        "plt.figure()\n",
        "\n",
        "plt.plot(epochs, loss, 'b', label='Training loss')\n",
        "plt.plot(epochs, val_loss, 'r', label='Validation loss')\n",
        "plt.title('Training and validation loss')\n",
        "plt.legend()\n",
        "\n",
        "plt.show()"
      ]
    },
    {
      "cell_type": "code",
      "execution_count": 10,
      "metadata": {
        "id": "04tfPf4lBg-P",
        "colab": {
          "base_uri": "https://localhost:8080/"
        },
        "outputId": "2936fccd-e8c1-4884-980b-aa06bc940939"
      },
      "outputs": [
        {
          "output_type": "stream",
          "name": "stdout",
          "text": [
            " Accuracy: {'loss': 0.40884387493133545, 'accuracy': 0.9206399321556091}\n"
          ]
        }
      ],
      "source": [
        "test_results = model.evaluate(test_data, verbose=0,return_dict=True)\n",
        "\n",
        "print(f\" Accuracy: {test_results}\")"
      ]
    },
    {
      "cell_type": "code",
      "source": [
        "from keras.metrics import Precision,Recall\n",
        "\n",
        "prec = Precision()\n",
        "rec = Recall()\n",
        "for x,y in test_data.as_numpy_iterator():\n",
        "  pred = np.argmax(model.predict(x),axis=1)\n",
        "  prec.update_state(y,pred)\n",
        "  rec.update_state(y,pred)\n",
        "\n",
        "prec = prec.result().numpy()\n",
        "rec = rec.result().numpy()\n",
        "f1 = 2*prec*rec/(prec+rec)\n",
        "print(f'Precision: {prec}\\nRecall: {rec}\\nF1: {f1}')"
      ],
      "metadata": {
        "colab": {
          "base_uri": "https://localhost:8080/"
        },
        "id": "ZUvA6UfR882o",
        "outputId": "fffe45e1-d95f-4154-8a4c-dab0310242fd"
      },
      "execution_count": 12,
      "outputs": [
        {
          "output_type": "stream",
          "name": "stdout",
          "text": [
            "7/7 [==============================] - 0s 18ms/step\n",
            "7/7 [==============================] - 0s 4ms/step\n",
            "7/7 [==============================] - 0s 4ms/step\n",
            "7/7 [==============================] - 0s 4ms/step\n",
            "7/7 [==============================] - 0s 3ms/step\n",
            "7/7 [==============================] - 0s 6ms/step\n",
            "7/7 [==============================] - 0s 6ms/step\n",
            "7/7 [==============================] - 0s 7ms/step\n",
            "7/7 [==============================] - 0s 9ms/step\n",
            "7/7 [==============================] - 0s 4ms/step\n",
            "7/7 [==============================] - 0s 3ms/step\n",
            "7/7 [==============================] - 0s 3ms/step\n",
            "7/7 [==============================] - 0s 3ms/step\n",
            "7/7 [==============================] - 0s 3ms/step\n",
            "7/7 [==============================] - 0s 4ms/step\n",
            "7/7 [==============================] - 0s 3ms/step\n",
            "7/7 [==============================] - 0s 4ms/step\n",
            "7/7 [==============================] - 0s 3ms/step\n",
            "7/7 [==============================] - 0s 3ms/step\n",
            "7/7 [==============================] - 0s 4ms/step\n",
            "7/7 [==============================] - 0s 4ms/step\n",
            "7/7 [==============================] - 0s 4ms/step\n",
            "7/7 [==============================] - 0s 3ms/step\n",
            "7/7 [==============================] - 0s 3ms/step\n",
            "7/7 [==============================] - 0s 3ms/step\n",
            "7/7 [==============================] - 0s 3ms/step\n",
            "7/7 [==============================] - 0s 3ms/step\n",
            "7/7 [==============================] - 0s 4ms/step\n",
            "7/7 [==============================] - 0s 4ms/step\n",
            "7/7 [==============================] - 0s 3ms/step\n",
            "7/7 [==============================] - 0s 4ms/step\n",
            "7/7 [==============================] - 0s 3ms/step\n",
            "7/7 [==============================] - 0s 4ms/step\n",
            "7/7 [==============================] - 0s 4ms/step\n",
            "7/7 [==============================] - 0s 5ms/step\n",
            "7/7 [==============================] - 0s 4ms/step\n",
            "7/7 [==============================] - 0s 5ms/step\n",
            "7/7 [==============================] - 0s 5ms/step\n",
            "7/7 [==============================] - 0s 7ms/step\n",
            "7/7 [==============================] - 0s 4ms/step\n",
            "7/7 [==============================] - 0s 6ms/step\n",
            "7/7 [==============================] - 0s 6ms/step\n",
            "7/7 [==============================] - 0s 5ms/step\n",
            "7/7 [==============================] - 0s 5ms/step\n",
            "7/7 [==============================] - 0s 5ms/step\n",
            "7/7 [==============================] - 0s 5ms/step\n",
            "7/7 [==============================] - 0s 5ms/step\n",
            "7/7 [==============================] - 0s 4ms/step\n",
            "7/7 [==============================] - 0s 4ms/step\n",
            "7/7 [==============================] - 0s 5ms/step\n",
            "7/7 [==============================] - 0s 4ms/step\n",
            "7/7 [==============================] - 0s 3ms/step\n",
            "7/7 [==============================] - 0s 3ms/step\n",
            "7/7 [==============================] - 0s 7ms/step\n",
            "7/7 [==============================] - 0s 3ms/step\n",
            "7/7 [==============================] - 0s 3ms/step\n",
            "7/7 [==============================] - 0s 3ms/step\n",
            "7/7 [==============================] - 0s 3ms/step\n",
            "7/7 [==============================] - 0s 3ms/step\n",
            "7/7 [==============================] - 0s 4ms/step\n",
            "7/7 [==============================] - 0s 3ms/step\n",
            "7/7 [==============================] - 0s 3ms/step\n",
            "7/7 [==============================] - 0s 3ms/step\n",
            "3/3 [==============================] - 0s 70ms/step\n",
            "Precision: 0.9801133275032043\n",
            "Recall: 0.9654892683029175\n",
            "F1: 0.9727463074676167\n"
          ]
        }
      ]
    },
    {
      "cell_type": "code",
      "source": [
        "model.save('This.h5')"
      ],
      "metadata": {
        "id": "6c_kDlnVEuq_"
      },
      "execution_count": 13,
      "outputs": []
    }
  ],
  "metadata": {
    "accelerator": "GPU",
    "colab": {
      "provenance": [],
      "gpuType": "T4"
    },
    "kernelspec": {
      "display_name": "Python 3",
      "name": "python3"
    },
    "language_info": {
      "name": "python"
    }
  },
  "nbformat": 4,
  "nbformat_minor": 0
}